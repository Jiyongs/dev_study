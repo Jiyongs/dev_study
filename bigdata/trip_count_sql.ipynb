{
 "cells": [
  {
   "cell_type": "markdown",
   "id": "d6606cc2",
   "metadata": {},
   "source": [
    "## dataframe 과 sql"
   ]
  },
  {
   "cell_type": "markdown",
   "id": "a1951a8d",
   "metadata": {},
   "source": [
    "### csv로부터 dataframe을 만들고, 그룹핑 해보자"
   ]
  },
  {
   "cell_type": "code",
   "execution_count": 2,
   "id": "13e7b07f",
   "metadata": {},
   "outputs": [],
   "source": [
    "from pyspark.sql import SparkSession"
   ]
  },
  {
   "cell_type": "code",
   "execution_count": 3,
   "id": "27ab4642",
   "metadata": {},
   "outputs": [
    {
     "name": "stderr",
     "output_type": "stream",
     "text": [
      "WARNING: An illegal reflective access operation has occurred\n",
      "WARNING: Illegal reflective access by org.apache.spark.unsafe.Platform (file:/usr/local/Cellar/apache-spark/3.2.1/libexec/jars/spark-unsafe_2.12-3.2.1.jar) to constructor java.nio.DirectByteBuffer(long,int)\n",
      "WARNING: Please consider reporting this to the maintainers of org.apache.spark.unsafe.Platform\n",
      "WARNING: Use --illegal-access=warn to enable warnings of further illegal reflective access operations\n",
      "WARNING: All illegal access operations will be denied in a future release\n",
      "Using Spark's default log4j profile: org/apache/spark/log4j-defaults.properties\n",
      "Setting default log level to \"WARN\".\n",
      "To adjust logging level use sc.setLogLevel(newLevel). For SparkR, use setLogLevel(newLevel).\n",
      "22/04/14 20:13:06 WARN NativeCodeLoader: Unable to load native-hadoop library for your platform... using builtin-java classes where applicable\n"
     ]
    }
   ],
   "source": [
    "spark = SparkSession.builder.appName(\"trip_count_sql\").getOrCreate()"
   ]
  },
  {
   "cell_type": "code",
   "execution_count": 1,
   "id": "8a8745ae",
   "metadata": {},
   "outputs": [],
   "source": [
    "directory = \"/Users/shinjiyoung/PycharmProjects/data-engineering/01-spark/data\"\n",
    "filename = \"fhvhv_tripdata_2020-03.csv\""
   ]
  },
  {
   "cell_type": "code",
   "execution_count": 4,
   "id": "2b433ee8",
   "metadata": {},
   "outputs": [
    {
     "name": "stderr",
     "output_type": "stream",
     "text": [
      "                                                                                \r"
     ]
    }
   ],
   "source": [
    "# inferSchema : 스키마 자동 예측\n",
    "# header : csv에서 header 자동 인식\n",
    "data = spark.read.csv(f\"file:///{directory}/{filename}\", inferSchema = True, header = True)"
   ]
  },
  {
   "cell_type": "code",
   "execution_count": 7,
   "id": "4b3bd394",
   "metadata": {},
   "outputs": [
    {
     "name": "stdout",
     "output_type": "stream",
     "text": [
      "+-----------------+--------------------+-------------------+-------------------+------------+------------+-------+\n",
      "|hvfhs_license_num|dispatching_base_num|    pickup_datetime|   dropoff_datetime|PULocationID|DOLocationID|SR_Flag|\n",
      "+-----------------+--------------------+-------------------+-------------------+------------+------------+-------+\n",
      "|           HV0005|              B02510|2020-03-01 00:03:40|2020-03-01 00:23:39|          81|         159|   null|\n",
      "|           HV0005|              B02510|2020-03-01 00:28:05|2020-03-01 00:38:57|         168|         119|   null|\n",
      "|           HV0003|              B02764|2020-03-01 00:03:07|2020-03-01 00:15:04|         137|         209|      1|\n",
      "|           HV0003|              B02764|2020-03-01 00:18:42|2020-03-01 00:38:42|         209|          80|   null|\n",
      "|           HV0003|              B02764|2020-03-01 00:44:24|2020-03-01 00:58:44|         256|         226|   null|\n",
      "+-----------------+--------------------+-------------------+-------------------+------------+------------+-------+\n",
      "only showing top 5 rows\n",
      "\n"
     ]
    }
   ],
   "source": [
    "data.show(5)"
   ]
  },
  {
   "cell_type": "code",
   "execution_count": 8,
   "id": "b733a26c",
   "metadata": {},
   "outputs": [
    {
     "name": "stdout",
     "output_type": "stream",
     "text": [
      "root\n",
      " |-- hvfhs_license_num: string (nullable = true)\n",
      " |-- dispatching_base_num: string (nullable = true)\n",
      " |-- pickup_datetime: string (nullable = true)\n",
      " |-- dropoff_datetime: string (nullable = true)\n",
      " |-- PULocationID: integer (nullable = true)\n",
      " |-- DOLocationID: integer (nullable = true)\n",
      " |-- SR_Flag: integer (nullable = true)\n",
      "\n"
     ]
    }
   ],
   "source": [
    "data.printSchema()"
   ]
  },
  {
   "cell_type": "code",
   "execution_count": 9,
   "id": "ce581342",
   "metadata": {},
   "outputs": [],
   "source": [
    "data.createOrReplaceTempView(\"mb_data\")"
   ]
  },
  {
   "cell_type": "code",
   "execution_count": 10,
   "id": "69f6fe6e",
   "metadata": {},
   "outputs": [
    {
     "name": "stdout",
     "output_type": "stream",
     "text": [
      "+-----------------+--------------------+-------------------+-------------------+------------+------------+-------+\n",
      "|hvfhs_license_num|dispatching_base_num|    pickup_datetime|   dropoff_datetime|PULocationID|DOLocationID|SR_Flag|\n",
      "+-----------------+--------------------+-------------------+-------------------+------------+------------+-------+\n",
      "|           HV0005|              B02510|2020-03-01 00:03:40|2020-03-01 00:23:39|          81|         159|   null|\n",
      "|           HV0005|              B02510|2020-03-01 00:28:05|2020-03-01 00:38:57|         168|         119|   null|\n",
      "|           HV0003|              B02764|2020-03-01 00:03:07|2020-03-01 00:15:04|         137|         209|      1|\n",
      "|           HV0003|              B02764|2020-03-01 00:18:42|2020-03-01 00:38:42|         209|          80|   null|\n",
      "|           HV0003|              B02764|2020-03-01 00:44:24|2020-03-01 00:58:44|         256|         226|   null|\n",
      "+-----------------+--------------------+-------------------+-------------------+------------+------------+-------+\n",
      "\n"
     ]
    }
   ],
   "source": [
    "spark.sql(\"select * from mb_data limit 5\").show()"
   ]
  },
  {
   "cell_type": "code",
   "execution_count": 18,
   "id": "bc90631e",
   "metadata": {},
   "outputs": [
    {
     "name": "stderr",
     "output_type": "stream",
     "text": [
      "\r",
      "[Stage 23:>                                                       (0 + 16) / 16]\r"
     ]
    },
    {
     "name": "stdout",
     "output_type": "stream",
     "text": [
      "+-----------+------+\n",
      "|pickup_date| trips|\n",
      "+-----------+------+\n",
      "| 2020-03-01|784246|\n",
      "| 2020-03-02|648986|\n",
      "| 2020-03-03|697880|\n",
      "| 2020-03-04|707879|\n",
      "| 2020-03-05|731165|\n",
      "| 2020-03-06|872012|\n",
      "| 2020-03-07|886071|\n",
      "| 2020-03-08|731222|\n",
      "| 2020-03-09|628940|\n",
      "| 2020-03-10|626474|\n",
      "| 2020-03-11|628601|\n",
      "| 2020-03-12|643257|\n",
      "| 2020-03-13|660914|\n",
      "| 2020-03-14|569397|\n",
      "| 2020-03-15|448125|\n",
      "| 2020-03-16|391518|\n",
      "| 2020-03-17|312298|\n",
      "| 2020-03-18|269232|\n",
      "| 2020-03-19|252773|\n",
      "| 2020-03-20|261900|\n",
      "+-----------+------+\n",
      "only showing top 20 rows\n",
      "\n"
     ]
    },
    {
     "name": "stderr",
     "output_type": "stream",
     "text": [
      "\r",
      "                                                                                \r"
     ]
    }
   ],
   "source": [
    "# pickup_datetime의 날짜별 건수 그룹핑\n",
    "# split\n",
    "spark.sql(\"select pickup_date, count(*) as trips from (select split(pickup_datetime, ' ')[0] as pickup_date from mb_data) group by pickup_date order by pickup_date\").show()"
   ]
  },
  {
   "cell_type": "markdown",
   "id": "c123c3dd",
   "metadata": {},
   "source": [
    "### 사람들이 어디서 가장 많이 타고 내리는가를 집계해보자"
   ]
  },
  {
   "cell_type": "code",
   "execution_count": 21,
   "id": "58b8fb45",
   "metadata": {},
   "outputs": [],
   "source": [
    "directory = \"/Users/shinjiyoung/PycharmProjects/data-engineering/01-spark/data\"\n",
    "filename_trip = \"fhvhv_tripdata_2020-03.csv\"\n",
    "filename_zone = \"taxi+_zone_lookup.csv\""
   ]
  },
  {
   "cell_type": "code",
   "execution_count": 23,
   "id": "2860bf3a",
   "metadata": {},
   "outputs": [
    {
     "name": "stderr",
     "output_type": "stream",
     "text": [
      "                                                                                \r"
     ]
    }
   ],
   "source": [
    "trip = spark.read.csv(f\"file:////{directory}/{filename_trip}\", inferSchema=True, header=True)\n",
    "zone = spark.read.csv(f\"file:////{directory}/{filename_zone}\", inferSchema=True, header=True)"
   ]
  },
  {
   "cell_type": "code",
   "execution_count": 27,
   "id": "cb3f86ac",
   "metadata": {},
   "outputs": [],
   "source": [
    "trip.createOrReplaceTempView(\"trip\")\n",
    "zone.createOrReplaceTempView(\"zone\")"
   ]
  },
  {
   "cell_type": "code",
   "execution_count": 29,
   "id": "352498ce",
   "metadata": {
    "scrolled": true
   },
   "outputs": [
    {
     "name": "stdout",
     "output_type": "stream",
     "text": [
      "+-----------------+--------------------+-------------------+-------------------+------------+------------+-------+\n",
      "|hvfhs_license_num|dispatching_base_num|    pickup_datetime|   dropoff_datetime|PULocationID|DOLocationID|SR_Flag|\n",
      "+-----------------+--------------------+-------------------+-------------------+------------+------------+-------+\n",
      "|           HV0005|              B02510|2020-03-01 00:03:40|2020-03-01 00:23:39|          81|         159|   null|\n",
      "|           HV0005|              B02510|2020-03-01 00:28:05|2020-03-01 00:38:57|         168|         119|   null|\n",
      "|           HV0003|              B02764|2020-03-01 00:03:07|2020-03-01 00:15:04|         137|         209|      1|\n",
      "+-----------------+--------------------+-------------------+-------------------+------------+------------+-------+\n",
      "\n"
     ]
    }
   ],
   "source": [
    "spark.sql(\"select * from trip limit 3\").show()"
   ]
  },
  {
   "cell_type": "code",
   "execution_count": 30,
   "id": "588b6b9b",
   "metadata": {},
   "outputs": [
    {
     "name": "stdout",
     "output_type": "stream",
     "text": [
      "+----------+-------+--------------------+------------+\n",
      "|LocationID|Borough|                Zone|service_zone|\n",
      "+----------+-------+--------------------+------------+\n",
      "|         1|    EWR|      Newark Airport|         EWR|\n",
      "|         2| Queens|         Jamaica Bay|   Boro Zone|\n",
      "|         3|  Bronx|Allerton/Pelham G...|   Boro Zone|\n",
      "+----------+-------+--------------------+------------+\n",
      "\n"
     ]
    }
   ],
   "source": [
    "spark.sql(\"select * from zone limit 3\").show()"
   ]
  },
  {
   "cell_type": "code",
   "execution_count": 39,
   "id": "b0440e67",
   "metadata": {},
   "outputs": [
    {
     "name": "stderr",
     "output_type": "stream",
     "text": [
      "\r",
      "[Stage 70:>                                                       (0 + 16) / 16]\r"
     ]
    },
    {
     "name": "stdout",
     "output_type": "stream",
     "text": [
      "+-------------+-------+\n",
      "|      Borough|peoples|\n",
      "+-------------+-------+\n",
      "|          EWR|    362|\n",
      "|      Unknown|    845|\n",
      "|Staten Island| 178818|\n",
      "|        Bronx|2086592|\n",
      "|       Queens|2437383|\n",
      "|     Brooklyn|3735764|\n",
      "|    Manhattan|4953140|\n",
      "+-------------+-------+\n",
      "\n"
     ]
    },
    {
     "name": "stderr",
     "output_type": "stream",
     "text": [
      "\r",
      "[Stage 70:========================>                                (7 + 9) / 16]\r",
      "\r",
      "                                                                                \r"
     ]
    }
   ],
   "source": [
    "# 가장 많은 승객이 승차한 지역은 어디일까?\n",
    "spark.sql(\"select zone.Borough, count(*) as peoples \\\n",
    "from trip join zone on trip.PULocationID = zone.LocationID \\\n",
    "group by zone.Borough \\\n",
    "order by count(*)\").show()"
   ]
  },
  {
   "cell_type": "code",
   "execution_count": 40,
   "id": "41359345",
   "metadata": {},
   "outputs": [
    {
     "name": "stderr",
     "output_type": "stream",
     "text": [
      "\r",
      "[Stage 74:>                                                       (0 + 16) / 16]\r"
     ]
    },
    {
     "name": "stdout",
     "output_type": "stream",
     "text": [
      "+-------------+-------+\n",
      "|      Borough|peoples|\n",
      "+-------------+-------+\n",
      "|          EWR|  65066|\n",
      "|Staten Island| 177727|\n",
      "|      Unknown| 387759|\n",
      "|        Bronx|2043486|\n",
      "|       Queens|2468408|\n",
      "|     Brooklyn|3696682|\n",
      "|    Manhattan|4553776|\n",
      "+-------------+-------+\n",
      "\n"
     ]
    },
    {
     "name": "stderr",
     "output_type": "stream",
     "text": [
      "\r",
      "                                                                                \r"
     ]
    }
   ],
   "source": [
    "# 가장 많은 승객이 하차한 지역은 어디일까?\n",
    "spark.sql(\"select zone.Borough, count(*) as peoples \\\n",
    "from trip join zone on trip.DOLocationID = zone.LocationID \\\n",
    "group by zone.Borough \\\n",
    "order by count(*)\").show()"
   ]
  },
  {
   "cell_type": "code",
   "execution_count": null,
   "id": "327a4e74",
   "metadata": {},
   "outputs": [],
   "source": []
  }
 ],
 "metadata": {
  "kernelspec": {
   "display_name": "Python 3 (ipykernel)",
   "language": "python",
   "name": "python3"
  },
  "language_info": {
   "codemirror_mode": {
    "name": "ipython",
    "version": 3
   },
   "file_extension": ".py",
   "mimetype": "text/x-python",
   "name": "python",
   "nbconvert_exporter": "python",
   "pygments_lexer": "ipython3",
   "version": "3.9.7"
  }
 },
 "nbformat": 4,
 "nbformat_minor": 5
}
