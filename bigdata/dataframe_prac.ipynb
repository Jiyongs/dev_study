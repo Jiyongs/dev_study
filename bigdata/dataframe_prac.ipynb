{
 "cells": [
  {
   "cell_type": "code",
   "execution_count": 2,
   "id": "132e9e51",
   "metadata": {},
   "outputs": [],
   "source": [
    "from pyspark.sql import SparkSession, Row\n",
    "from pyspark.sql.types import StructType, StructField, StringType, IntegerType\n",
    "spark = SparkSession.builder.master(\"local\").appName(\"test\").getOrCreate()"
   ]
  },
  {
   "cell_type": "code",
   "execution_count": 3,
   "id": "f0dad325",
   "metadata": {},
   "outputs": [],
   "source": [
    "stocks=[('Google', 'GOOGL', 'USA', 2984, 'USD'),\n",
    "('Netfilx', 'NFLX', 'USA', 645, 'USD'),\n",
    "('Amazon', 'AMZN', 'USA', 3518, 'USD'),\n",
    "('Tesla', 'TSLA', 'USA', 1222, 'USD'),\n",
    "('Samsung', '005930', 'Korea', 70600, 'KRW'),\n",
    "('Kakao', '035720', 'Korea', 125000, 'KRW')]\n",
    "schema = [\"name\", \"ticker\", \"country\", \"price\", \"currency\"]\n",
    "df = spark.createDataFrame(data=stocks, schema=schema) #data type 은 자동 할당 됨"
   ]
  },
  {
   "cell_type": "code",
   "execution_count": 5,
   "id": "c84fa692",
   "metadata": {},
   "outputs": [
    {
     "name": "stdout",
     "output_type": "stream",
     "text": [
      "root\n",
      " |-- name: string (nullable = true)\n",
      " |-- ticker: string (nullable = true)\n",
      " |-- country: string (nullable = true)\n",
      " |-- price: long (nullable = true)\n",
      " |-- currency: string (nullable = true)\n",
      "\n"
     ]
    }
   ],
   "source": [
    "df.printSchema()"
   ]
  },
  {
   "cell_type": "code",
   "execution_count": 6,
   "id": "05024035",
   "metadata": {},
   "outputs": [
    {
     "name": "stdout",
     "output_type": "stream",
     "text": [
      "+-------+-------+-----+\n",
      "|   name|country|price|\n",
      "+-------+-------+-----+\n",
      "|Netfilx|    USA|  645|\n",
      "|  Tesla|    USA| 1222|\n",
      "| Google|    USA| 2984|\n",
      "| Amazon|    USA| 3518|\n",
      "+-------+-------+-----+\n",
      "\n"
     ]
    }
   ],
   "source": [
    "# select\n",
    "usaStocksDf = df.select(\"name\", \"country\", \"price\").where(\"country == 'USA'\").orderBy(\"price\")\n",
    "usaStocksDf.show()"
   ]
  },
  {
   "cell_type": "code",
   "execution_count": 7,
   "id": "b17d7387",
   "metadata": {},
   "outputs": [
    {
     "name": "stdout",
     "output_type": "stream",
     "text": [
      "+--------+----------+\n",
      "|currency|max(price)|\n",
      "+--------+----------+\n",
      "|     KRW|    125000|\n",
      "|     USD|      3518|\n",
      "+--------+----------+\n",
      "\n"
     ]
    }
   ],
   "source": [
    "#groupBy\n",
    "df.groupBy(\"currency\").max(\"price\").show() # currency별 각 최고가격"
   ]
  },
  {
   "cell_type": "code",
   "execution_count": 9,
   "id": "38a2261c",
   "metadata": {},
   "outputs": [
    {
     "name": "stdout",
     "output_type": "stream",
     "text": [
      "+--------+----------+\n",
      "|currency|avg(price)|\n",
      "+--------+----------+\n",
      "|     KRW|   97800.0|\n",
      "|     USD|   2092.25|\n",
      "+--------+----------+\n",
      "\n"
     ]
    }
   ],
   "source": [
    "from pyspark.sql.functions import avg, count\n",
    "df.groupBy(\"currency\").agg(avg(\"price\")).show() # currency별 그룹핑 후 각 평균가격"
   ]
  },
  {
   "cell_type": "code",
   "execution_count": 10,
   "id": "b5aea5f8",
   "metadata": {},
   "outputs": [
    {
     "name": "stdout",
     "output_type": "stream",
     "text": [
      "+--------+------------+\n",
      "|currency|count(price)|\n",
      "+--------+------------+\n",
      "|     KRW|           2|\n",
      "|     USD|           4|\n",
      "+--------+------------+\n",
      "\n"
     ]
    }
   ],
   "source": [
    "df.groupBy(\"currency\").agg(count(\"price\")).show()"
   ]
  },
  {
   "cell_type": "code",
   "execution_count": null,
   "id": "b46e62f2",
   "metadata": {},
   "outputs": [],
   "source": []
  }
 ],
 "metadata": {
  "kernelspec": {
   "display_name": "Python 3 (ipykernel)",
   "language": "python",
   "name": "python3"
  },
  "language_info": {
   "codemirror_mode": {
    "name": "ipython",
    "version": 3
   },
   "file_extension": ".py",
   "mimetype": "text/x-python",
   "name": "python",
   "nbconvert_exporter": "python",
   "pygments_lexer": "ipython3",
   "version": "3.9.7"
  }
 },
 "nbformat": 4,
 "nbformat_minor": 5
}
